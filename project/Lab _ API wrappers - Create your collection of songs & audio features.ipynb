{
 "cells": [
  {
   "cell_type": "markdown",
   "id": "2a820ad7",
   "metadata": {},
   "source": [
    "# Instructions\n",
    "\n",
    "To move forward with the project, you need to create a collection of songs with their audio features - as large as possible!\n",
    "\n",
    "These are the songs that we will cluster. And, later, when the user inputs a song, we will find the cluster to which the song belongs and recommend a song from the same cluster. The more songs you have, the more accurate and diverse recommendations you'll be able to give. Although... you might want to make sure the collected songs are \"curated\" in a certain way. Try to find playlists of songs that are diverse, but also that meet certain standards.\n",
    "\n",
    "The process of sending hundreds or thousands of requests can take some time - it's normal if you have to wait a few minutes (or, if you're ambitious, even hours) to get all the data you need.\n",
    "\n",
    "An idea for collecting as many songs as possible is to start with all the songs of a big, diverse playlist and then go to every artist present in the playlist and grab every song of every album of that artist. The amount of songs you'll be collecting per playlist will grow exponentially!\n",
    "\n",
    "\n",
    "#### Importing all libraries & spotify authentification"
   ]
  },
  {
   "cell_type": "code",
   "execution_count": null,
   "id": "bb2f54a6",
   "metadata": {},
   "outputs": [],
   "source": [
    "!pip install spotipy"
   ]
  },
  {
   "cell_type": "code",
   "execution_count": null,
   "id": "6896eaff",
   "metadata": {},
   "outputs": [],
   "source": [
    "#import lib\n",
    "import spotipy\n",
    "from spotipy.oauth2 import SpotifyClientCredentials\n",
    "import getpass # to hide the password\n",
    "import pandas as pd\n",
    "\n",
    "import numpy as np\n",
    "import matplotlib.pyplot as plt\n",
    "import seaborn as sns\n",
    "sns.set()\n",
    "from sklearn.cluster import KMeans"
   ]
  },
  {
   "cell_type": "code",
   "execution_count": null,
   "id": "524aa8ed",
   "metadata": {},
   "outputs": [],
   "source": [
    "client_id = getpass.getpass('id?')\n",
    "client_secret = getpass.getpass('secret?')"
   ]
  },
  {
   "cell_type": "code",
   "execution_count": null,
   "id": "eee4025b",
   "metadata": {},
   "outputs": [],
   "source": [
    "# building and saving an API connection.\n",
    "sp = spotipy.Spotify(auth_manager=SpotifyClientCredentials(client_id=client_id,\n",
    "                                                           client_secret=client_secret))"
   ]
  },
  {
   "cell_type": "markdown",
   "id": "aabe2c70",
   "metadata": {},
   "source": [
    "### Creating a collection of songs from different artists"
   ]
  },
  {
   "cell_type": "code",
   "execution_count": null,
   "id": "a97db0a8",
   "metadata": {},
   "outputs": [],
   "source": [
    "# from this list of artist we are going to extract the top 50 songs in spotify and extract ids and audio features\n",
    "artists = [\"8Ball & MJG\", \"Three 6 Mafia\",\"Outkast\",\"T.I.\", \"Youngbloodz\", \"Devin The Dude\", \"Baby\"\n",
    "          ,\"Clipse\", \"Goodie Mob\", \"Young Dro\", \"Master P\", \"OJ Da Juiceman\", \"Gucci Mane\", \"Lil Wayne\",\n",
    "           \"Project Pat\", \"Bun B\", \"UGK\", \"Snoop Dogg\", \"Juicy J\", \"Rick Ross\", \"Drake\", \"French Montana\",\n",
    "           \"Soulja Boy\", \"Jeezy\", \"Mike Jones\", \"Paul Wall\", \"Slim Thug\", \"Waka Flocka Flame\", \"Ludacris\", \"Styles P\", \"Ying Yang Twins\", \"Future\", \"Redman\", \"Travis Scott\",\n",
    "           \"Meek Mill\",\"Young Thug\",\n",
    "           \"Gunna\",\n",
    "           \"Moneybagg Yo\",\n",
    "           \"Baby Keem\",\n",
    "           \"Kendrick Lamar\",\n",
    "           \"Da Baby\",\n",
    "           \"J. Cole\",\n",
    "           \"Kanye West\",\n",
    "           \"21 Savage\",\n",
    "           \"Tyga\",\n",
    "           \"2 Chainz\",\n",
    "           \"Big Sean\",\n",
    "           \"Kodak Black\",\n",
    "           \"Megan Thee Stallion\",\n",
    "           \"Jadakiss\",\n",
    "           \"JAY-Z\"] \n",
    "# loop the artist search\n",
    "#sp.searc pertutti gli artisti nella lista\n",
    "my_20_artists = [sp.search(q= artist , limit = 50) for artist in artists]\n",
    "# create the dictionary\n",
    "#def artist_to_dict(artists):\n",
    "   # return{artist:sp.search(q= artist , limit = 50) for artist in artists}\n",
    "#len(artist_to_dict(artists))\n"
   ]
  },
  {
   "cell_type": "markdown",
   "id": "a1816518",
   "metadata": {},
   "source": [
    "### Taking a look at the data that we have"
   ]
  },
  {
   "cell_type": "code",
   "execution_count": null,
   "id": "a4de6fc9",
   "metadata": {},
   "outputs": [],
   "source": [
    "# obtain the names and ids of all the artists\n",
    "# Each item is a dict in and of itself.\n",
    "my_20_artists[2]['tracks'].keys() #Each Spotify track is a dictionary with the following keys:"
   ]
  },
  {
   "cell_type": "code",
   "execution_count": null,
   "id": "e2f252eb",
   "metadata": {},
   "outputs": [],
   "source": [
    "my_20_artists[2]['tracks']['total'] # total reproduction "
   ]
  },
  {
   "cell_type": "code",
   "execution_count": null,
   "id": "8dc7e75f",
   "metadata": {},
   "outputs": [],
   "source": [
    "# Outkast, track item number 1\n",
    "# We can get the id, uri, and so on from here.\n",
    "my_20_artists[2]['tracks']['items'][0] "
   ]
  },
  {
   "cell_type": "code",
   "execution_count": null,
   "id": "fbc5a6f5",
   "metadata": {},
   "outputs": [],
   "source": [
    "# song title\n",
    "my_20_artists[2]['tracks']['items'][0]['name']"
   ]
  },
  {
   "cell_type": "code",
   "execution_count": null,
   "id": "633546ca",
   "metadata": {},
   "outputs": [],
   "source": [
    "my_20_artists[2]['tracks']['items'][0]['id']"
   ]
  },
  {
   "cell_type": "code",
   "execution_count": null,
   "id": "6dcf78dc",
   "metadata": {},
   "outputs": [],
   "source": [
    "my_20_artists[2]['tracks']['items'][0].keys()"
   ]
  },
  {
   "cell_type": "code",
   "execution_count": null,
   "id": "beaa50b4",
   "metadata": {},
   "outputs": [],
   "source": [
    "# # I discovered one thing, and now I must iterate to obtain all items for each artist.\n",
    "my_20_artists[2]['tracks']['items']"
   ]
  },
  {
   "cell_type": "code",
   "execution_count": null,
   "id": "7d15ecaf",
   "metadata": {},
   "outputs": [],
   "source": [
    "#total items \n",
    "\n",
    "tot_items = [my_20_artists[i]['tracks']['items'] for i in  range(len(my_20_artists))]"
   ]
  },
  {
   "cell_type": "code",
   "execution_count": null,
   "id": "e6445c53",
   "metadata": {},
   "outputs": [],
   "source": [
    "# double indexing for artist and songs\n",
    "# first artist, first song - Id\n",
    "tot_items[0][0]['id']"
   ]
  },
  {
   "cell_type": "markdown",
   "id": "8c04277c",
   "metadata": {},
   "source": [
    "### Obtaining all of the ids for each artist and track"
   ]
  },
  {
   "cell_type": "code",
   "execution_count": null,
   "id": "9fc5e22a",
   "metadata": {},
   "outputs": [],
   "source": [
    "# obtain all of the ids\n",
    "tot_ids = [tot_items[artist][track]['id'] for track in range(0,50) for artist in range(len(my_20_artists))]\n",
    "len(tot_ids)"
   ]
  },
  {
   "cell_type": "code",
   "execution_count": null,
   "id": "9be977c2",
   "metadata": {},
   "outputs": [],
   "source": [
    "tot_ids"
   ]
  },
  {
   "cell_type": "code",
   "execution_count": null,
   "id": "8a2c7127",
   "metadata": {},
   "outputs": [],
   "source": [
    "# Obtain the audio features\n",
    "sp.audio_features(tot_ids[:10])"
   ]
  },
  {
   "cell_type": "code",
   "execution_count": null,
   "id": "38d79e72",
   "metadata": {},
   "outputs": [],
   "source": [
    "# chunckin the tot ids is required to go beyond Spotipy's restriction of 50 tracks.\n",
    "def chunks(lst, n):\n",
    "    \"\"\"Yield successive n-sized chunks from lst.\"\"\"\n",
    "    for i in range(0, len(lst), n):\n",
    "        yield lst[i:i + n]\n",
    "\n",
    "        \n",
    "audio_feats = []\n",
    "for chunk in list(chunks(tot_ids, 50)):\n",
    "        audio_feats.append(sp.audio_features(chunk))"
   ]
  },
  {
   "cell_type": "code",
   "execution_count": null,
   "id": "d58e3e09",
   "metadata": {},
   "outputs": [],
   "source": [
    "type(audio_feats)"
   ]
  },
  {
   "cell_type": "code",
   "execution_count": null,
   "id": "dc748411",
   "metadata": {},
   "outputs": [],
   "source": [
    "audio_feats"
   ]
  },
  {
   "cell_type": "code",
   "execution_count": null,
   "id": "fa5a8096",
   "metadata": {},
   "outputs": [],
   "source": [
    "# Because some of the values were none, I chose to use'song is not none' instead\n",
    "\n",
    "chunk_list = [song for artist in audio_feats for song in artist if song is not None]"
   ]
  },
  {
   "cell_type": "code",
   "execution_count": null,
   "id": "cdc74adb",
   "metadata": {},
   "outputs": [],
   "source": [
    "df = pd.DataFrame(chunk_list)\n",
    "df"
   ]
  },
  {
   "cell_type": "code",
   "execution_count": null,
   "id": "2e3e3410",
   "metadata": {},
   "outputs": [],
   "source": [
    "max(df['danceability'])"
   ]
  },
  {
   "cell_type": "code",
   "execution_count": null,
   "id": "88edaaf2",
   "metadata": {},
   "outputs": [],
   "source": [
    "df.to_csv('/Users/edudarrelljockers/Desktop/Ironhack/wrapper_lab.csv', index=False)"
   ]
  },
  {
   "cell_type": "code",
   "execution_count": null,
   "id": "a4f111b8",
   "metadata": {},
   "outputs": [],
   "source": [
    "df.keys()"
   ]
  },
  {
   "cell_type": "code",
   "execution_count": null,
   "id": "0874b045",
   "metadata": {},
   "outputs": [],
   "source": [
    "df_num = df._get_numeric_data()\n",
    "df_num.head()"
   ]
  },
  {
   "cell_type": "code",
   "execution_count": null,
   "id": "44816d1b",
   "metadata": {},
   "outputs": [],
   "source": [
    "df_num"
   ]
  },
  {
   "cell_type": "code",
   "execution_count": null,
   "id": "72b32d30",
   "metadata": {},
   "outputs": [],
   "source": [
    "col_names = df_num.columns"
   ]
  },
  {
   "cell_type": "code",
   "execution_count": null,
   "id": "067356ba",
   "metadata": {},
   "outputs": [],
   "source": [
    "from sklearn.preprocessing import StandardScaler\n",
    "#X_prep = StandardScaler().fit_transform(df_num)"
   ]
  },
  {
   "cell_type": "code",
   "execution_count": null,
   "id": "757f1259",
   "metadata": {},
   "outputs": [],
   "source": [
    "scaler = StandardScaler()\n",
    "scaler.fit(df_num)\n",
    "X_prep = scaler.transform(df_num)"
   ]
  },
  {
   "cell_type": "code",
   "execution_count": null,
   "id": "fb154b52",
   "metadata": {},
   "outputs": [],
   "source": [
    "X_prep_df = pd.DataFrame(X_prep, columns=col_names)"
   ]
  },
  {
   "cell_type": "code",
   "execution_count": null,
   "id": "3a868231",
   "metadata": {},
   "outputs": [],
   "source": [
    "kmeans = KMeans(n_clusters=8, random_state=1234)\n",
    "kmeans.fit(X_prep_df)"
   ]
  },
  {
   "cell_type": "code",
   "execution_count": null,
   "id": "e149f437",
   "metadata": {},
   "outputs": [],
   "source": [
    "kmeans.cluster_centers_"
   ]
  },
  {
   "cell_type": "code",
   "execution_count": null,
   "id": "f41d60a3",
   "metadata": {},
   "outputs": [],
   "source": [
    "kmeans.inertia_"
   ]
  },
  {
   "cell_type": "code",
   "execution_count": null,
   "id": "d0f92202",
   "metadata": {},
   "outputs": [],
   "source": [
    "clusters = kmeans.predict(X_prep)\n",
    "clusters"
   ]
  },
  {
   "cell_type": "code",
   "execution_count": null,
   "id": "55a184ef",
   "metadata": {},
   "outputs": [],
   "source": [
    "pd.Series(clusters).value_counts().sort_index()"
   ]
  },
  {
   "cell_type": "code",
   "execution_count": null,
   "id": "ee5b7953",
   "metadata": {},
   "outputs": [],
   "source": [
    "X_df = pd.DataFrame(X_prep)\n",
    "X_df['cluster'] = clusters\n",
    "X_df.head()"
   ]
  },
  {
   "cell_type": "code",
   "execution_count": null,
   "id": "80edd58c",
   "metadata": {},
   "outputs": [],
   "source": [
    "X_df['cluster'].plot(kind='hist')"
   ]
  },
  {
   "cell_type": "markdown",
   "id": "b5273c27",
   "metadata": {},
   "source": [
    "### Inertia\n",
    "\n",
    "Running the method numerous times with different random initializations and keeping the best result is one technique to determine the centroids. The n init hyperparameter controls the number of random initializations: by default, it is, which means that the entire algorithm runs 10 times when we use fit(), and Scikit Learn keeps the best answer. The inertia is defined as the average square distance between each instance and its nearest centroid. The KMeans class iteratively runs the procedure n init times and maintains the model with the lowest inertia."
   ]
  },
  {
   "cell_type": "code",
   "execution_count": null,
   "id": "a9f08ed2",
   "metadata": {},
   "outputs": [],
   "source": [
    "# I want to iterate over a range of n_clusters and for every value, I want to return the inertia\n",
    "def get_kmeans_inertia_varying_cluster_n(n_clusters):\n",
    "    \n",
    "    # setup the model\n",
    "    kmeans = KMeans(n_clusters=n_clusters,\n",
    "                    random_state=1234,\n",
    "                    n_init=10,\n",
    "                    #algorithm='elkan',\n",
    "                   )\n",
    "    # train the model\n",
    "    kmeans.fit(X_prep_df)\n",
    "    \n",
    "    # return the resulting inertia\n",
    "    return kmeans.inertia_\n",
    "\n",
    "# Plot for a range of cluster numbers\n",
    "import matplotlib.pyplot as plt\n",
    "\n",
    "cluster_range = range(1,20)\n",
    "\n",
    "plt.plot(cluster_range,\n",
    "         [get_kmeans_inertia_varying_cluster_n(c_number) for c_number in cluster_range],\n",
    "         marker=\"o\",\n",
    "         ms=10,\n",
    "        )\n",
    "plt.xlabel('Cluster Number')\n",
    "plt.ylabel('inertia')"
   ]
  },
  {
   "cell_type": "code",
   "execution_count": null,
   "id": "2768468f",
   "metadata": {},
   "outputs": [],
   "source": [
    "# I want to iterate over a range of mx_iter and for every value, I want to return the inertia\n",
    "def get_kmeans_ineratia_varying_max_iter(max_iter):\n",
    "    kmeans = KMeans(n_clusters=10,\n",
    "                    random_state=1234,\n",
    "                    n_init=10,\n",
    "                    algorithm='elkan',\n",
    "                    max_iter=max_iter,\n",
    "                   )\n",
    "    kmeans.fit(X_prep_df)\n",
    "\n",
    "    return kmeans.inertia_\n",
    "\n",
    "max_iter_list = [1, 5, 10, 20, 30, 40, 50, 100]\n",
    "\n",
    "plt.plot(max_iter_list,\n",
    "         [get_kmeans_ineratia_varying_max_iter(x) for x in max_iter_list],\n",
    "        )\n",
    "plt.xlabel('Max iter')\n",
    "plt.ylabel('inertia')"
   ]
  },
  {
   "cell_type": "markdown",
   "id": "7dcdd618",
   "metadata": {},
   "source": [
    "### Silhouette coefficient\n",
    "The silhouette coefficient of an instance is equal to (b-a)/max(a,b), where an is the distance to other instances in the same cluster and b is the mean nearest-cluster distance. The silhouette coefficient can range from -1 to +1. A coefficient near to +1 indicates that the instance is well within its own cluster and distant from other clusters, a coefficient close to 0 indicates that it is close to a cluster border, and a coefficient close to -1 indicates that the distance may have been given to the incorrect cluster."
   ]
  },
  {
   "cell_type": "code",
   "execution_count": null,
   "id": "31632d2d",
   "metadata": {},
   "outputs": [],
   "source": [
    "from sklearn.metrics import silhouette_score\n",
    "\n",
    "K = range(2, 20)\n",
    "\n",
    "silhouettes = []\n",
    "\n",
    "for k in K:\n",
    "    kmeans = KMeans(n_clusters=k,\n",
    "                   random_state=1234)\n",
    "    kmeans.fit(X_prep)\n",
    "    silhouettes.append(silhouette_score(X_prep, kmeans.predict(X_prep)))"
   ]
  },
  {
   "cell_type": "code",
   "execution_count": null,
   "id": "dcadcb19",
   "metadata": {},
   "outputs": [],
   "source": [
    "import matplotlib.pyplot as plt\n",
    "\n",
    "\n",
    "plt.figure(figsize=(16,8))\n",
    "plt.plot(K, silhouettes, 'bo-')\n",
    "plt.xlabel('k (number of clusters)')\n",
    "plt.ylabel('silhouette score')"
   ]
  },
  {
   "cell_type": "code",
   "execution_count": null,
   "id": "05d0f3b6",
   "metadata": {},
   "outputs": [],
   "source": [
    "kmeans = KMeans(n_clusters=10,\n",
    "             random_state=1234)\n",
    "\n",
    "kmeans.fit(X_prep)\n",
    "\n",
    "clusters = kmeans.predict(X_prep)\n",
    "clusters"
   ]
  },
  {
   "cell_type": "code",
   "execution_count": null,
   "id": "eddd93c2",
   "metadata": {},
   "outputs": [],
   "source": [
    "clusters.shape"
   ]
  },
  {
   "cell_type": "code",
   "execution_count": null,
   "id": "3f6ef46f",
   "metadata": {},
   "outputs": [],
   "source": [
    "features_clustered = pd.DataFrame(X_prep, columns=col_names)"
   ]
  },
  {
   "cell_type": "code",
   "execution_count": null,
   "id": "af3f7aca",
   "metadata": {},
   "outputs": [],
   "source": [
    "features_clustered['cluster_id'] = clusters"
   ]
  },
  {
   "cell_type": "code",
   "execution_count": null,
   "id": "b54faf92",
   "metadata": {},
   "outputs": [],
   "source": [
    "features_clustered.head()"
   ]
  },
  {
   "cell_type": "code",
   "execution_count": null,
   "id": "485e1b2e",
   "metadata": {},
   "outputs": [],
   "source": [
    "features_clustered['cluster_id'].value_counts()"
   ]
  },
  {
   "cell_type": "code",
   "execution_count": null,
   "id": "9eab5e6e",
   "metadata": {},
   "outputs": [],
   "source": [
    "kmeans.cluster_centers_"
   ]
  },
  {
   "cell_type": "code",
   "execution_count": null,
   "id": "67546780",
   "metadata": {},
   "outputs": [],
   "source": [
    "cluster_centers_df = pd.DataFrame(kmeans.cluster_centers_, columns=col_names)"
   ]
  },
  {
   "cell_type": "code",
   "execution_count": null,
   "id": "9acc2860",
   "metadata": {},
   "outputs": [],
   "source": [
    "cluster_centers_df"
   ]
  },
  {
   "cell_type": "code",
   "execution_count": null,
   "id": "5ebe0e2f",
   "metadata": {},
   "outputs": [],
   "source": [
    "cluster_centers_df['cluster_id'] = range(0,10)"
   ]
  },
  {
   "cell_type": "code",
   "execution_count": null,
   "id": "ee5180e5",
   "metadata": {},
   "outputs": [],
   "source": [
    "cluster_centers_df"
   ]
  },
  {
   "cell_type": "code",
   "execution_count": null,
   "id": "7ddd0f1b",
   "metadata": {},
   "outputs": [],
   "source": [
    "# this contains my cluster centers\n",
    "cluster_center_sub_df = cluster_centers_df[['danceability', 'loudness', 'cluster_id']]\n",
    "\n",
    "features_clustered_sub_df= features_clustered[['danceability', 'loudness', 'cluster_id']]"
   ]
  },
  {
   "cell_type": "code",
   "execution_count": null,
   "id": "c608d657",
   "metadata": {},
   "outputs": [],
   "source": [
    "cluster_center_sub_df"
   ]
  },
  {
   "cell_type": "code",
   "execution_count": null,
   "id": "ffea9ea5",
   "metadata": {},
   "outputs": [],
   "source": [
    "features_clustered_sub_df"
   ]
  },
  {
   "cell_type": "code",
   "execution_count": null,
   "id": "d713dd73",
   "metadata": {},
   "outputs": [],
   "source": [
    "import seaborn as sns\n",
    "\n",
    "sns.scatterplot(data=features_clustered_sub_df,\n",
    "               x='danceability',\n",
    "               y='loudness',\n",
    "               hue='cluster_id')\n",
    "\n",
    "# plot centroids\n",
    "sns.scatterplot(data=cluster_center_sub_df,\n",
    "               x=\"danceability\",\n",
    "               y=\"loudness\",\n",
    "               hue='cluster_id',\n",
    "                legend=False,\n",
    "                # marker=u'8',\n",
    "                marker='+',\n",
    "                s=500,\n",
    "               )"
   ]
  },
  {
   "cell_type": "code",
   "execution_count": null,
   "id": "98713e73",
   "metadata": {},
   "outputs": [],
   "source": [
    "song = np.array([[-0.35992001,  0.42882697, -0.14838292,  0.17284094,  0.16457822,\n",
    "        -0.03195258, -0.1271788 , -0.20547284,  3.02816589, -0.26732747,\n",
    "         0.02835173,  0.09672491,  0.07415629]])"
   ]
  },
  {
   "cell_type": "code",
   "execution_count": null,
   "id": "35c2ec68",
   "metadata": {},
   "outputs": [],
   "source": [
    "kmeans.predict(song)"
   ]
  },
  {
   "cell_type": "markdown",
   "id": "2d6d3534",
   "metadata": {},
   "source": [
    "### Importing Billboard scraping csv"
   ]
  },
  {
   "cell_type": "code",
   "execution_count": null,
   "id": "87a1c402",
   "metadata": {},
   "outputs": [],
   "source": [
    "pwd"
   ]
  },
  {
   "cell_type": "code",
   "execution_count": null,
   "id": "759d796f",
   "metadata": {},
   "outputs": [],
   "source": [
    "hot_songs = pd.read_csv('/Users/edudarrelljockers/Desktop/Ironhack/hot100_songs.csv')"
   ]
  },
  {
   "cell_type": "code",
   "execution_count": null,
   "id": "7b85bb8f",
   "metadata": {},
   "outputs": [],
   "source": [
    "hot_songs"
   ]
  },
  {
   "cell_type": "code",
   "execution_count": null,
   "id": "26080a63",
   "metadata": {},
   "outputs": [],
   "source": [
    "## Part 4\n",
    "# from the input to the cluster recommendation\n",
    "df_chunk = pd.DataFrame(chunk_list)\n",
    "df_chunk.head()"
   ]
  },
  {
   "cell_type": "code",
   "execution_count": null,
   "id": "3d334960",
   "metadata": {},
   "outputs": [],
   "source": [
    "df_chunk['clusters_id'] = clusters\n",
    "df_chunk"
   ]
  },
  {
   "cell_type": "code",
   "execution_count": null,
   "id": "8e6519c0",
   "metadata": {},
   "outputs": [],
   "source": [
    "import random\n",
    "\n",
    "# from song name to audio feature\n",
    "def cluster_song(title):\n",
    "    title = sp.search(q= title , limit = 1)\n",
    "    title_id = title['tracks']['items'][0]['id']\n",
    "    title_features = sp.audio_features(title_id)\n",
    "    df = pd.DataFrame(title_features, index= [0])\n",
    "    df_1 = df._get_numeric_data()\n",
    "    df_title_scaled = scaler.transform(df_1)\n",
    "    cluster_num = kmeans.predict(df_title_scaled)\n",
    "    sub_df = df_chunk.loc[df_chunk['clusters_id'] == int(cluster_num)]\n",
    "    sub_df.reset_index(drop=True, inplace=True) \n",
    "    title_name_id = random.choice(sub_df[\"id\"])\n",
    "    name = sp.track(title_name_id)['name']  \n",
    "    return f\"I recommend you: {name}\""
   ]
  },
  {
   "cell_type": "code",
   "execution_count": null,
   "id": "31d66802",
   "metadata": {},
   "outputs": [],
   "source": [
    "# return random recomandation\n",
    "\n",
    "title = str(input('name a title: ')).title()\n",
    "\n",
    "\n",
    "if title in list(hot_songs['title']):\n",
    "     print('I recommend you to listen to: ' + random.choice(hot_songs['title']))\n",
    "else:\n",
    "     print(cluster_title(title))"
   ]
  },
  {
   "cell_type": "code",
   "execution_count": null,
   "id": "19022e22",
   "metadata": {},
   "outputs": [],
   "source": [
    "df_chunk.to_csv('/Users/edudarrelljockers/Desktop/Ironhack/df_chunk.csv', index=False)"
   ]
  },
  {
   "cell_type": "code",
   "execution_count": null,
   "id": "20df82f2",
   "metadata": {},
   "outputs": [],
   "source": []
  }
 ],
 "metadata": {
  "kernelspec": {
   "display_name": "Python 3",
   "language": "python",
   "name": "python3"
  },
  "language_info": {
   "codemirror_mode": {
    "name": "ipython",
    "version": 3
   },
   "file_extension": ".py",
   "mimetype": "text/x-python",
   "name": "python",
   "nbconvert_exporter": "python",
   "pygments_lexer": "ipython3",
   "version": "3.8.8"
  }
 },
 "nbformat": 4,
 "nbformat_minor": 5
}
